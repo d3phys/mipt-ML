{
 "cells": [
  {
   "cell_type": "code",
   "execution_count": 2,
   "id": "df50bfca-d354-43f7-b115-dd65bab9e389",
   "metadata": {},
   "outputs": [],
   "source": [
    "import torch\n",
    "from torch.utils.tensorboard import SummaryWriter\n",
    "\n",
    "from torch.utils.data import Dataset\n",
    "\n",
    "import torchvision\n",
    "from torchvision import datasets\n",
    "from torchvision.transforms import ToTensor\n",
    "import matplotlib.pyplot as plt\n",
    "\n",
    "from tqdm import tqdm\n",
    "\n",
    "from tqdm.notebook import tqdm\n",
    "import numpy as np\n",
    "\n",
    "from sklearn.model_selection import ParameterGrid\n",
    "\n",
    "from torchinfo import summary"
   ]
  },
  {
   "cell_type": "code",
   "execution_count": 3,
   "id": "974f35f8-4345-4ca8-8bae-16f4117275e5",
   "metadata": {},
   "outputs": [
    {
     "data": {
      "text/plain": [
       "'cuda'"
      ]
     },
     "execution_count": 3,
     "metadata": {},
     "output_type": "execute_result"
    }
   ],
   "source": [
    "device = 'cuda' if torch.cuda.is_available() else 'cpu'\n",
    "device"
   ]
  },
  {
   "cell_type": "markdown",
   "id": "4b9b869d-892d-4e68-a856-1c6b837c80bb",
   "metadata": {},
   "source": [
    "## Фиксируем seed"
   ]
  },
  {
   "cell_type": "code",
   "execution_count": 4,
   "id": "bd1283b4-31cf-48a1-b156-c7e213ef0786",
   "metadata": {
    "scrolled": true
   },
   "outputs": [],
   "source": [
    "random_seed = 48\n",
    "np.random.seed(random_seed)\n",
    "torch.manual_seed(random_seed)\n",
    "torch.cuda.manual_seed(random_seed)"
   ]
  },
  {
   "cell_type": "markdown",
   "id": "e135ea7a-7b16-4deb-ace3-bace04a282ca",
   "metadata": {},
   "source": [
    "## Dataset MNIST-letters"
   ]
  },
  {
   "cell_type": "code",
   "execution_count": 5,
   "id": "8b9b8256-d767-407d-bc13-f84b3b15134a",
   "metadata": {},
   "outputs": [],
   "source": [
    "transform = torchvision.transforms.Compose([\n",
    "    lambda img: torchvision.transforms.functional.rotate(img, -90),\n",
    "    lambda img: torchvision.transforms.functional.hflip(img),\n",
    "    torchvision.transforms.ToTensor()\n",
    "])\n",
    "\n",
    "train_data = datasets.EMNIST(\n",
    "    root='data',\n",
    "    split='letters',\n",
    "    train=True,\n",
    "    download=True,\n",
    "    transform=transform\n",
    ")\n",
    "test_data = datasets.EMNIST(\n",
    "    root='data',\n",
    "    split='letters',\n",
    "    train=False,\n",
    "    download=True,\n",
    "    transform=transform\n",
    ")"
   ]
  },
  {
   "cell_type": "code",
   "execution_count": 6,
   "id": "4a37c20a-a90e-4fae-9cf0-9e266272fc0e",
   "metadata": {},
   "outputs": [
    {
     "name": "stdout",
     "output_type": "stream",
     "text": [
      "N/A a b c d e f g h i j k l m n o p q r s t u v w x y z\n"
     ]
    }
   ],
   "source": [
    "print(*train_data.classes)"
   ]
  },
  {
   "cell_type": "code",
   "execution_count": 7,
   "id": "8a4799d4-994c-4aca-a1a7-f45fb69ba5c2",
   "metadata": {},
   "outputs": [
    {
     "data": {
      "text/plain": [
       "27"
      ]
     },
     "execution_count": 7,
     "metadata": {},
     "output_type": "execute_result"
    }
   ],
   "source": [
    "n_classes = len(train_data.classes)\n",
    "n_classes"
   ]
  },
  {
   "cell_type": "code",
   "execution_count": 8,
   "id": "3d4a84da-d4e7-415a-8ac7-1f0e741216a2",
   "metadata": {},
   "outputs": [
    {
     "data": {
      "text/plain": [
       "28"
      ]
     },
     "execution_count": 8,
     "metadata": {},
     "output_type": "execute_result"
    }
   ],
   "source": [
    "image_size = train_data[0][0].size()[-1]\n",
    "image_size"
   ]
  },
  {
   "cell_type": "code",
   "execution_count": 9,
   "id": "a9f9ec9a-da56-4e2c-8c26-578c8fa368c1",
   "metadata": {},
   "outputs": [
    {
     "data": {
      "image/png": "[encoded data removed]",
      "text/plain": [
       "<Figure size 800x800 with 25 Axes>"
      ]
     },
     "metadata": {},
     "output_type": "display_data"
    }
   ],
   "source": [
    "figure = plt.figure(figsize=(8, 8))\n",
    "cols, rows = 5, 5\n",
    "for i in range(1, cols * rows + 1):\n",
    "    sample_idx = torch.randint(len(train_data), size=(1,)).item()\n",
    "    img, label = train_data[sample_idx]\n",
    "    figure.add_subplot(rows, cols, i)\n",
    "    plt.axis(\"off\")\n",
    "    plt.imshow(img.squeeze(), cmap=\"gray\")\n",
    "plt.show()"
   ]
  },
  {
   "cell_type": "markdown",
   "id": "428d913a-787d-498a-a83e-1f8a2c67d9e1",
   "metadata": {},
   "source": [
    "## Обучение модели (код с семинара)"
   ]
  },
  {
   "cell_type": "code",
   "execution_count": 10,
   "id": "6a333d2f-bfe9-430f-8bfd-9b7d638ddf02",
   "metadata": {},
   "outputs": [],
   "source": [
    "def train_on_batch(model, x_batch, y_batch, optimizer, loss_function):\n",
    "    model.train()\n",
    "    model.zero_grad()\n",
    "\n",
    "    output = model(x_batch.to(device))\n",
    "\n",
    "    loss = loss_function(output, y_batch.to(device))\n",
    "    loss.backward()\n",
    "\n",
    "    optimizer.step()\n",
    "    return loss.cpu().item()"
   ]
  },
  {
   "cell_type": "code",
   "execution_count": 11,
   "id": "7ee90f83-1809-4c29-b452-36c23a51daa2",
   "metadata": {},
   "outputs": [],
   "source": [
    "def train_epoch(train_generator, model, loss_function, optimizer, callback = None):\n",
    "    epoch_loss = 0\n",
    "    total = 0\n",
    "    for it, (batch_of_x, batch_of_y) in enumerate(train_generator):\n",
    "        batch_loss = train_on_batch(model, batch_of_x.to(device), batch_of_y.to(device), optimizer, loss_function)\n",
    "\n",
    "        if callback is not None:\n",
    "            callback(model, batch_loss)\n",
    "\n",
    "        epoch_loss += batch_loss*len(batch_of_x)\n",
    "        total += len(batch_of_x)\n",
    "\n",
    "    return epoch_loss/total"
   ]
  },
  {
   "cell_type": "code",
   "execution_count": 12,
   "id": "90ac8668-2ce8-408f-a977-8dbafe0f3d7e",
   "metadata": {},
   "outputs": [],
   "source": [
    "def trainer(count_of_epoch,\n",
    "            batch_size,\n",
    "            dataset,\n",
    "            model,\n",
    "            loss_function,\n",
    "            optimizer,\n",
    "            lr = 0.001,\n",
    "            callback = None):\n",
    "\n",
    "    optima = optimizer(model.parameters(), lr=lr)\n",
    "\n",
    "    iterations = tqdm(range(count_of_epoch), desc='epoch')\n",
    "    iterations.set_postfix({'train epoch loss': np.nan})\n",
    "    for it in iterations:\n",
    "        batch_generator = tqdm(\n",
    "            torch.utils.data.DataLoader(dataset=dataset, batch_size=batch_size, shuffle=True),\n",
    "            leave=False, total=len(dataset)//batch_size+(len(dataset)%batch_size> 0))\n",
    "\n",
    "        epoch_loss = train_epoch(train_generator=batch_generator,\n",
    "                                 model=model,\n",
    "                                 loss_function=loss_function,\n",
    "                                 optimizer=optima,\n",
    "                                 callback=callback)\n",
    "\n",
    "        iterations.set_postfix({'train epoch loss': epoch_loss})"
   ]
  },
  {
   "cell_type": "code",
   "execution_count": 13,
   "id": "8139b9ae-6641-4177-9b40-2f942a35ec14",
   "metadata": {},
   "outputs": [],
   "source": [
    "def train_quality(model,\n",
    "                  dataset,\n",
    "                  loss_function,\n",
    "                  batch_size):\n",
    "\n",
    "    batch_generator = torch.utils.data.DataLoader(dataset=dataset,\n",
    "                                                  batch_size=batch_size)\n",
    "\n",
    "    pred = []\n",
    "    real = []\n",
    "    test_loss = 0\n",
    "\n",
    "    for it, (x_batch, y_batch) in enumerate(batch_generator):\n",
    "        x_batch = x_batch.to(device)\n",
    "        y_batch = y_batch.to(device)\n",
    "\n",
    "        output = model(x_batch)\n",
    "\n",
    "        test_loss += loss_function(output, y_batch).cpu().item() * len(x_batch)\n",
    "\n",
    "        pred.extend(torch.argmax(output, dim=-1).cpu().numpy().tolist())\n",
    "        real.extend(y_batch.cpu().numpy().tolist())\n",
    "\n",
    "    test_loss /= len(dataset)\n",
    "\n",
    "    return test_loss, pred, real"
   ]
  },
  {
   "cell_type": "markdown",
   "id": "b2b99bcf-c4b9-4267-b2b3-6a410b4f6fa1",
   "metadata": {},
   "source": [
    "## Tensorboard callback (~код с семинара)"
   ]
  },
  {
   "cell_type": "code",
   "execution_count": 14,
   "id": "90f5b9fd-06ff-4bf6-82e6-b6e761eb4508",
   "metadata": {},
   "outputs": [],
   "source": [
    "class tensorboard_callback:\n",
    "    def __init__(self, writer, dataset, loss_function, delimeter=100, batch_size=64):\n",
    "        self.step = 0\n",
    "        self.writer = writer\n",
    "        self.delimeter = delimeter\n",
    "        self.loss_function = loss_function\n",
    "        self.batch_size = batch_size\n",
    "\n",
    "        self.dataset = dataset\n",
    "\n",
    "    def forward(self, model, loss):\n",
    "        self.step += 1\n",
    "        self.writer.add_scalar('LOSS/train', loss, self.step)\n",
    "\n",
    "        if self.step % self.delimeter == 0:\n",
    "            self.writer.add_graph(model, self.dataset[0][0].view(1, 1, 28, 28).to(model.device))\n",
    "            test_loss, pred, real = train_quality(model=model, dataset=self.dataset,\n",
    "                                                  loss_function=self.loss_function, batch_size=self.batch_size)\n",
    "            self.writer.add_scalar('LOSS/test', test_loss, self.step)\n",
    "\n",
    "    def __call__(self, model, loss):\n",
    "        return self.forward(model, loss)"
   ]
  },
  {
   "cell_type": "markdown",
   "id": "fadcc129-2897-4fe6-815c-e574619fe295",
   "metadata": {},
   "source": [
    "## Модель"
   ]
  },
  {
   "cell_type": "code",
   "execution_count": 76,
   "id": "010f6376-ce09-48f6-a25d-595e25117e91",
   "metadata": {},
   "outputs": [],
   "source": [
    "class CNN(torch.nn.Module):\n",
    "    @property\n",
    "    def device(self):\n",
    "        for p in self.parameters():\n",
    "            return p.device\n",
    "            \n",
    "    def __init__(self,     \n",
    "                 n_layers = 1,       #  числа слоев;\n",
    "                 kernel_size = 3,    # размера ядра;\n",
    "                 max_pool = False,   # от пулинга;\n",
    "                 batch_norm = False, # добавления BatchNorm;\n",
    "                 dropout = 0.0):     # параметра dropout.\n",
    "        \n",
    "        super().__init__()\n",
    "\n",
    "        self.size = image_size\n",
    "        self.n_channels = 1\n",
    "        self.layers = torch.nn.Sequential()\n",
    "\n",
    "        for layer in range(n_layers):\n",
    "            self.layers.add_module(f'Conv2d[{layer}]', torch.nn.Conv2d(self.n_channels, \n",
    "                                                                       self.n_channels * 4, \n",
    "                                                                       kernel_size=kernel_size))\n",
    "            self.n_channels *= 4\n",
    "            self.size -= (kernel_size - 1)\n",
    "\n",
    "            if batch_norm:\n",
    "                self.layers.add_module(f'BatchNorm2d[{layer}]', torch.nn.BatchNorm2d(self.n_channels))\n",
    "\n",
    "            self.layers.add_module(f'ReLU[{layer}]', torch.nn.ReLU())\n",
    "\n",
    "            if max_pool:\n",
    "                self.layers.add_module(f'MaxPool2d[{layer}]', torch.nn.MaxPool2d(kernel_size=2))\n",
    "                self.size //= 2\n",
    "\n",
    "        self.layers.add_module('Flatten[0]', torch.nn.Flatten())\n",
    "        self.layers.add_module('Dropout[0]', torch.nn.Dropout(dropout))\n",
    "        in_features = int(self.n_channels * self.size**2)\n",
    "        print(f'n_features {in_features}')\n",
    "        self.layers.add_module('Linear[0]', torch.nn.Linear(in_features, n_classes))\n",
    "\n",
    "    def forward(self, input):\n",
    "        return self.layers(input)"
   ]
  },
  {
   "cell_type": "code",
   "execution_count": 16,
   "id": "25fa968f-b7f1-4932-9b6b-21cef43b0c20",
   "metadata": {},
   "outputs": [],
   "source": [
    "loss_function = torch.nn.CrossEntropyLoss()\n",
    "optimizer = torch.optim.Adam"
   ]
  },
  {
   "cell_type": "code",
   "execution_count": 17,
   "id": "0119080a-0dff-48f7-a8ec-e29a5c4bbbdc",
   "metadata": {},
   "outputs": [],
   "source": [
    "batch_size = 128"
   ]
  },
  {
   "cell_type": "code",
   "execution_count": 77,
   "id": "fafec184-4f34-48d0-889c-b1be68f80586",
   "metadata": {},
   "outputs": [
    {
     "data": {
      "application/vnd.jupyter.widget-view+json": {
       "model_id": "a231b27240824a9695ce8a860f1b57b8",
       "version_major": 2,
       "version_minor": 0
      },
      "text/plain": [
       "  0%|          | 0/16 [00:00<?, ?it/s]"
      ]
     },
     "metadata": {},
     "output_type": "display_data"
    },
    {
     "name": "stdout",
     "output_type": "stream",
     "text": [
      "{'batch_norm': False, 'dropout': 0.0, 'kernel_size': 3, 'max_pool': True, 'n_layers': 2}\n",
      "n_features 400\n"
     ]
    },
    {
     "data": {
      "application/vnd.jupyter.widget-view+json": {
       "model_id": "0415a66e2a884e78a9eec95172fdbbd8",
       "version_major": 2,
       "version_minor": 0
      },
      "text/plain": [
       "epoch:   0%|          | 0/1 [00:00<?, ?it/s]"
      ]
     },
     "metadata": {},
     "output_type": "display_data"
    },
    {
     "data": {
      "application/vnd.jupyter.widget-view+json": {
       "model_id": "d84d3ea16a614d80b654ba8df9eb22ac",
       "version_major": 2,
       "version_minor": 0
      },
      "text/plain": [
       "  0%|          | 0/975 [00:00<?, ?it/s]"
      ]
     },
     "metadata": {},
     "output_type": "display_data"
    },
    {
     "name": "stdout",
     "output_type": "stream",
     "text": [
      "{'batch_norm': False, 'dropout': 0.0, 'kernel_size': 3, 'max_pool': False, 'n_layers': 2}\n",
      "n_features 9216\n"
     ]
    },
    {
     "data": {
      "application/vnd.jupyter.widget-view+json": {
       "model_id": "68b753e8608846c498c0b8ade069842a",
       "version_major": 2,
       "version_minor": 0
      },
      "text/plain": [
       "epoch:   0%|          | 0/1 [00:00<?, ?it/s]"
      ]
     },
     "metadata": {},
     "output_type": "display_data"
    },
    {
     "data": {
      "application/vnd.jupyter.widget-view+json": {
       "model_id": "0ff851f9e156438a9c8276b265466ef1",
       "version_major": 2,
       "version_minor": 0
      },
      "text/plain": [
       "  0%|          | 0/975 [00:00<?, ?it/s]"
      ]
     },
     "metadata": {},
     "output_type": "display_data"
    },
    {
     "name": "stdout",
     "output_type": "stream",
     "text": [
      "{'batch_norm': False, 'dropout': 0.0, 'kernel_size': 7, 'max_pool': True, 'n_layers': 2}\n",
      "n_features 64\n"
     ]
    },
    {
     "data": {
      "application/vnd.jupyter.widget-view+json": {
       "model_id": "c98e79470896430abf515cd5d4a59fd1",
       "version_major": 2,
       "version_minor": 0
      },
      "text/plain": [
       "epoch:   0%|          | 0/1 [00:00<?, ?it/s]"
      ]
     },
     "metadata": {},
     "output_type": "display_data"
    },
    {
     "data": {
      "application/vnd.jupyter.widget-view+json": {
       "model_id": "648d9bcc43a845c39ff1695802c1d775",
       "version_major": 2,
       "version_minor": 0
      },
      "text/plain": [
       "  0%|          | 0/975 [00:00<?, ?it/s]"
      ]
     },
     "metadata": {},
     "output_type": "display_data"
    },
    {
     "name": "stdout",
     "output_type": "stream",
     "text": [
      "{'batch_norm': False, 'dropout': 0.0, 'kernel_size': 7, 'max_pool': False, 'n_layers': 2}\n",
      "n_features 4096\n"
     ]
    },
    {
     "data": {
      "application/vnd.jupyter.widget-view+json": {
       "model_id": "fdbf8f10327342adbd2967d3ad88e823",
       "version_major": 2,
       "version_minor": 0
      },
      "text/plain": [
       "epoch:   0%|          | 0/1 [00:00<?, ?it/s]"
      ]
     },
     "metadata": {},
     "output_type": "display_data"
    },
    {
     "data": {
      "application/vnd.jupyter.widget-view+json": {
       "model_id": "099b5427aeff42aaac2e4c5a4dc7bda3",
       "version_major": 2,
       "version_minor": 0
      },
      "text/plain": [
       "  0%|          | 0/975 [00:00<?, ?it/s]"
      ]
     },
     "metadata": {},
     "output_type": "display_data"
    },
    {
     "name": "stdout",
     "output_type": "stream",
     "text": [
      "{'batch_norm': False, 'dropout': 0.5, 'kernel_size': 3, 'max_pool': True, 'n_layers': 2}\n",
      "n_features 400\n"
     ]
    },
    {
     "data": {
      "application/vnd.jupyter.widget-view+json": {
       "model_id": "d80695acae6f4be5840212c6cd20a506",
       "version_major": 2,
       "version_minor": 0
      },
      "text/plain": [
       "epoch:   0%|          | 0/1 [00:00<?, ?it/s]"
      ]
     },
     "metadata": {},
     "output_type": "display_data"
    },
    {
     "data": {
      "application/vnd.jupyter.widget-view+json": {
       "model_id": "fc2c68bf66914b7caa4472c26a6a040d",
       "version_major": 2,
       "version_minor": 0
      },
      "text/plain": [
       "  0%|          | 0/975 [00:00<?, ?it/s]"
      ]
     },
     "metadata": {},
     "output_type": "display_data"
    },
    {
     "name": "stdout",
     "output_type": "stream",
     "text": [
      "{'batch_norm': False, 'dropout': 0.5, 'kernel_size': 3, 'max_pool': False, 'n_layers': 2}\n",
      "n_features 9216\n"
     ]
    },
    {
     "data": {
      "application/vnd.jupyter.widget-view+json": {
       "model_id": "ea3090df17aa4374af692f63a70071a0",
       "version_major": 2,
       "version_minor": 0
      },
      "text/plain": [
       "epoch:   0%|          | 0/1 [00:00<?, ?it/s]"
      ]
     },
     "metadata": {},
     "output_type": "display_data"
    },
    {
     "data": {
      "application/vnd.jupyter.widget-view+json": {
       "model_id": "b2fc39bd095747738a45d2e733883193",
       "version_major": 2,
       "version_minor": 0
      },
      "text/plain": [
       "  0%|          | 0/975 [00:00<?, ?it/s]"
      ]
     },
     "metadata": {},
     "output_type": "display_data"
    },
    {
     "name": "stdout",
     "output_type": "stream",
     "text": [
      "{'batch_norm': False, 'dropout': 0.5, 'kernel_size': 7, 'max_pool': True, 'n_layers': 2}\n",
      "n_features 64\n"
     ]
    },
    {
     "data": {
      "application/vnd.jupyter.widget-view+json": {
       "model_id": "e57a284af65b49f282bc0a76b4789012",
       "version_major": 2,
       "version_minor": 0
      },
      "text/plain": [
       "epoch:   0%|          | 0/1 [00:00<?, ?it/s]"
      ]
     },
     "metadata": {},
     "output_type": "display_data"
    },
    {
     "data": {
      "application/vnd.jupyter.widget-view+json": {
       "model_id": "146ac6401db34717b056d8699a243227",
       "version_major": 2,
       "version_minor": 0
      },
      "text/plain": [
       "  0%|          | 0/975 [00:00<?, ?it/s]"
      ]
     },
     "metadata": {},
     "output_type": "display_data"
    },
    {
     "name": "stdout",
     "output_type": "stream",
     "text": [
      "{'batch_norm': False, 'dropout': 0.5, 'kernel_size': 7, 'max_pool': False, 'n_layers': 2}\n",
      "n_features 4096\n"
     ]
    },
    {
     "data": {
      "application/vnd.jupyter.widget-view+json": {
       "model_id": "6a6097624c9746119b2c425e606c90f3",
       "version_major": 2,
       "version_minor": 0
      },
      "text/plain": [
       "epoch:   0%|          | 0/1 [00:00<?, ?it/s]"
      ]
     },
     "metadata": {},
     "output_type": "display_data"
    },
    {
     "data": {
      "application/vnd.jupyter.widget-view+json": {
       "model_id": "3224634ce02748bb9883b66cfdfbd56e",
       "version_major": 2,
       "version_minor": 0
      },
      "text/plain": [
       "  0%|          | 0/975 [00:00<?, ?it/s]"
      ]
     },
     "metadata": {},
     "output_type": "display_data"
    },
    {
     "name": "stdout",
     "output_type": "stream",
     "text": [
      "{'batch_norm': True, 'dropout': 0.0, 'kernel_size': 3, 'max_pool': True, 'n_layers': 2}\n",
      "n_features 400\n"
     ]
    },
    {
     "data": {
      "application/vnd.jupyter.widget-view+json": {
       "model_id": "c6b95206327746ad8394eddd388376b0",
       "version_major": 2,
       "version_minor": 0
      },
      "text/plain": [
       "epoch:   0%|          | 0/1 [00:00<?, ?it/s]"
      ]
     },
     "metadata": {},
     "output_type": "display_data"
    },
    {
     "data": {
      "application/vnd.jupyter.widget-view+json": {
       "model_id": "1c2578fd02d6430299097602cf32ddd2",
       "version_major": 2,
       "version_minor": 0
      },
      "text/plain": [
       "  0%|          | 0/975 [00:00<?, ?it/s]"
      ]
     },
     "metadata": {},
     "output_type": "display_data"
    },
    {
     "name": "stdout",
     "output_type": "stream",
     "text": [
      "{'batch_norm': True, 'dropout': 0.0, 'kernel_size': 3, 'max_pool': False, 'n_layers': 2}\n",
      "n_features 9216\n"
     ]
    },
    {
     "data": {
      "application/vnd.jupyter.widget-view+json": {
       "model_id": "e5793b3d441748fe88756ab8e498abce",
       "version_major": 2,
       "version_minor": 0
      },
      "text/plain": [
       "epoch:   0%|          | 0/1 [00:00<?, ?it/s]"
      ]
     },
     "metadata": {},
     "output_type": "display_data"
    },
    {
     "data": {
      "application/vnd.jupyter.widget-view+json": {
       "model_id": "432b7bb0719f4950ba5591f142135248",
       "version_major": 2,
       "version_minor": 0
      },
      "text/plain": [
       "  0%|          | 0/975 [00:00<?, ?it/s]"
      ]
     },
     "metadata": {},
     "output_type": "display_data"
    },
    {
     "name": "stdout",
     "output_type": "stream",
     "text": [
      "{'batch_norm': True, 'dropout': 0.0, 'kernel_size': 7, 'max_pool': True, 'n_layers': 2}\n",
      "n_features 64\n"
     ]
    },
    {
     "data": {
      "application/vnd.jupyter.widget-view+json": {
       "model_id": "601d47ade9db4bc28ffac28ea7d50f45",
       "version_major": 2,
       "version_minor": 0
      },
      "text/plain": [
       "epoch:   0%|          | 0/1 [00:00<?, ?it/s]"
      ]
     },
     "metadata": {},
     "output_type": "display_data"
    },
    {
     "data": {
      "application/vnd.jupyter.widget-view+json": {
       "model_id": "08109e38590849eebe7af691969f199b",
       "version_major": 2,
       "version_minor": 0
      },
      "text/plain": [
       "  0%|          | 0/975 [00:00<?, ?it/s]"
      ]
     },
     "metadata": {},
     "output_type": "display_data"
    },
    {
     "name": "stdout",
     "output_type": "stream",
     "text": [
      "{'batch_norm': True, 'dropout': 0.0, 'kernel_size': 7, 'max_pool': False, 'n_layers': 2}\n",
      "n_features 4096\n"
     ]
    },
    {
     "data": {
      "application/vnd.jupyter.widget-view+json": {
       "model_id": "ebd8edcf03df48e79aca977d4b2c8dca",
       "version_major": 2,
       "version_minor": 0
      },
      "text/plain": [
       "epoch:   0%|          | 0/1 [00:00<?, ?it/s]"
      ]
     },
     "metadata": {},
     "output_type": "display_data"
    },
    {
     "data": {
      "application/vnd.jupyter.widget-view+json": {
       "model_id": "d7bf060288bc4c90b5e6a418127b2b8f",
       "version_major": 2,
       "version_minor": 0
      },
      "text/plain": [
       "  0%|          | 0/975 [00:00<?, ?it/s]"
      ]
     },
     "metadata": {},
     "output_type": "display_data"
    },
    {
     "name": "stdout",
     "output_type": "stream",
     "text": [
      "{'batch_norm': True, 'dropout': 0.5, 'kernel_size': 3, 'max_pool': True, 'n_layers': 2}\n",
      "n_features 400\n"
     ]
    },
    {
     "data": {
      "application/vnd.jupyter.widget-view+json": {
       "model_id": "4b8bf53f336d4f81a9e4eaa5cd24b9d3",
       "version_major": 2,
       "version_minor": 0
      },
      "text/plain": [
       "epoch:   0%|          | 0/1 [00:00<?, ?it/s]"
      ]
     },
     "metadata": {},
     "output_type": "display_data"
    },
    {
     "data": {
      "application/vnd.jupyter.widget-view+json": {
       "model_id": "6796181327e34c21ad6a9332ff2c2ede",
       "version_major": 2,
       "version_minor": 0
      },
      "text/plain": [
       "  0%|          | 0/975 [00:00<?, ?it/s]"
      ]
     },
     "metadata": {},
     "output_type": "display_data"
    },
    {
     "name": "stdout",
     "output_type": "stream",
     "text": [
      "{'batch_norm': True, 'dropout': 0.5, 'kernel_size': 3, 'max_pool': False, 'n_layers': 2}\n",
      "n_features 9216\n"
     ]
    },
    {
     "data": {
      "application/vnd.jupyter.widget-view+json": {
       "model_id": "52380e0bf041407ca0236c1923751acb",
       "version_major": 2,
       "version_minor": 0
      },
      "text/plain": [
       "epoch:   0%|          | 0/1 [00:00<?, ?it/s]"
      ]
     },
     "metadata": {},
     "output_type": "display_data"
    },
    {
     "data": {
      "application/vnd.jupyter.widget-view+json": {
       "model_id": "d8db4cac5b004d6389e7e25f618b6d7d",
       "version_major": 2,
       "version_minor": 0
      },
      "text/plain": [
       "  0%|          | 0/975 [00:00<?, ?it/s]"
      ]
     },
     "metadata": {},
     "output_type": "display_data"
    },
    {
     "name": "stdout",
     "output_type": "stream",
     "text": [
      "{'batch_norm': True, 'dropout': 0.5, 'kernel_size': 7, 'max_pool': True, 'n_layers': 2}\n",
      "n_features 64\n"
     ]
    },
    {
     "data": {
      "application/vnd.jupyter.widget-view+json": {
       "model_id": "343a96eea052452b8f58c8c407b5bcc3",
       "version_major": 2,
       "version_minor": 0
      },
      "text/plain": [
       "epoch:   0%|          | 0/1 [00:00<?, ?it/s]"
      ]
     },
     "metadata": {},
     "output_type": "display_data"
    },
    {
     "data": {
      "application/vnd.jupyter.widget-view+json": {
       "model_id": "357c4cfd7ad0418294cb5786009a84ec",
       "version_major": 2,
       "version_minor": 0
      },
      "text/plain": [
       "  0%|          | 0/975 [00:00<?, ?it/s]"
      ]
     },
     "metadata": {},
     "output_type": "display_data"
    },
    {
     "name": "stdout",
     "output_type": "stream",
     "text": [
      "{'batch_norm': True, 'dropout': 0.5, 'kernel_size': 7, 'max_pool': False, 'n_layers': 2}\n",
      "n_features 4096\n"
     ]
    },
    {
     "data": {
      "application/vnd.jupyter.widget-view+json": {
       "model_id": "65109c4918ad45298d37539c28f5b52b",
       "version_major": 2,
       "version_minor": 0
      },
      "text/plain": [
       "epoch:   0%|          | 0/1 [00:00<?, ?it/s]"
      ]
     },
     "metadata": {},
     "output_type": "display_data"
    },
    {
     "data": {
      "application/vnd.jupyter.widget-view+json": {
       "model_id": "842d487bcfd743cda4ffd7b81e1b8202",
       "version_major": 2,
       "version_minor": 0
      },
      "text/plain": [
       "  0%|          | 0/975 [00:00<?, ?it/s]"
      ]
     },
     "metadata": {},
     "output_type": "display_data"
    }
   ],
   "source": [
    "grid = ParameterGrid({\n",
    "    'n_layers': [2],\n",
    "    'kernel_size': [3, 7],\n",
    "    'max_pool': [True, False],\n",
    "    'batch_norm': [False, True],\n",
    "    'dropout': [0.0, 0.5],\n",
    "})\n",
    "\n",
    "scores = dict()\n",
    "\n",
    "for params in tqdm(grid):\n",
    "    print(str(params))\n",
    "\n",
    "    # Create model\n",
    "    model = CNN(**params)\n",
    "    mod = model.to(device)\n",
    "    \n",
    "    writer = SummaryWriter(f'runs/{str(params)}')\n",
    "    callback = tensorboard_callback(writer, test_data, loss_function, batch_size=batch_size, delimeter=10)\n",
    "\n",
    "    trainer(count_of_epoch=1,\n",
    "            batch_size=batch_size,\n",
    "            dataset=train_data,\n",
    "            model=model,\n",
    "            loss_function=loss_function,\n",
    "            optimizer=optimizer,\n",
    "            lr=0.001,\n",
    "            callback=callback)\n"
   ]
  },
  {
   "cell_type": "markdown",
   "id": "4f9cea2b-63c9-44a8-8030-6e156134e3ad",
   "metadata": {},
   "source": [
    "## Выводы:"
   ]
  },
  {
   "cell_type": "markdown",
   "id": "6488552c-5d4a-456b-82d6-9fc64136c7aa",
   "metadata": {},
   "source": [
    "Реализована сверточная нейронная сеть, обученная на EMNIST-letters датасете.\n",
    "\n",
    "Также реализован Grid Search по гиперпараметрам:\n",
    "- размер ядра Conv2d\n",
    "- число слоев CNN\n",
    "- Max Pooling\n",
    "- Batch Norm\n",
    "- Dropout\n",
    "\n",
    "Наилучшие результаты показали CNN с двумя слоями, без Batch Norm и Max Pooling и в не зависимости от размера ядра (Dropout также практически не влияет).\n",
    "\n",
    "Неожиданно, CNN с Batch Norm и Max Pooling оказались сильно неточными (даже хуже сети с одним слоем).\n",
    "\n",
    "Остальные комбинации гиперпараметров приводят к промежуточным результатам.\n"
   ]
  },
  {
   "cell_type": "code",
   "execution_count": null,
   "id": "3657638c-4d4c-4aa8-b6ff-7b2735c2dff2",
   "metadata": {},
   "outputs": [],
   "source": []
  }
 ],
 "metadata": {
  "kernelspec": {
   "display_name": "Python 3 (ipykernel)",
   "language": "python",
   "name": "python3"
  },
  "language_info": {
   "codemirror_mode": {
    "name": "ipython",
    "version": 3
   },
   "file_extension": ".py",
   "mimetype": "text/x-python",
   "name": "python",
   "nbconvert_exporter": "python",
   "pygments_lexer": "ipython3",
   "version": "3.13.2"
  }
 },
 "nbformat": 4,
 "nbformat_minor": 5
}
